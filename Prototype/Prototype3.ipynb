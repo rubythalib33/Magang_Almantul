{
 "cells": [
  {
   "cell_type": "code",
   "execution_count": 96,
   "metadata": {},
   "outputs": [],
   "source": [
    "from copy import deepcopy\n",
    "from mpl_toolkits.mplot3d import Axes3D\n",
    "import numpy as np\n",
    "import pandas as pd\n",
    "from matplotlib import pyplot as plt\n",
    "plt.rcParams['figure.figsize']= (16,9)\n",
    "plt.style.use('ggplot')\n"
   ]
  },
  {
   "cell_type": "code",
   "execution_count": 66,
   "metadata": {},
   "outputs": [
    {
     "name": "stdout",
     "output_type": "stream",
     "text": [
      "(23, 5)\n"
     ]
    },
    {
     "data": {
      "text/html": [
       "<div>\n",
       "<style scoped>\n",
       "    .dataframe tbody tr th:only-of-type {\n",
       "        vertical-align: middle;\n",
       "    }\n",
       "\n",
       "    .dataframe tbody tr th {\n",
       "        vertical-align: top;\n",
       "    }\n",
       "\n",
       "    .dataframe thead th {\n",
       "        text-align: right;\n",
       "    }\n",
       "</style>\n",
       "<table border=\"1\" class=\"dataframe\">\n",
       "  <thead>\n",
       "    <tr style=\"text-align: right;\">\n",
       "      <th></th>\n",
       "      <th>Nama Produk</th>\n",
       "      <th>Harga Beli</th>\n",
       "      <th>Harga Jual</th>\n",
       "      <th>Jumlah Stok</th>\n",
       "      <th>Stok Keluar</th>\n",
       "    </tr>\n",
       "  </thead>\n",
       "  <tbody>\n",
       "    <tr>\n",
       "      <th>0</th>\n",
       "      <td>Habbatussauda Extra Propolis Trigon</td>\n",
       "      <td>55000</td>\n",
       "      <td>120000</td>\n",
       "      <td>109</td>\n",
       "      <td>41</td>\n",
       "    </tr>\n",
       "    <tr>\n",
       "      <th>1</th>\n",
       "      <td>Habbatussauda Oil 200 Kapsul</td>\n",
       "      <td>45000</td>\n",
       "      <td>100000</td>\n",
       "      <td>99</td>\n",
       "      <td>16</td>\n",
       "    </tr>\n",
       "    <tr>\n",
       "      <th>2</th>\n",
       "      <td>Habasyi Oil 100 Kps</td>\n",
       "      <td>24000</td>\n",
       "      <td>48000</td>\n",
       "      <td>85</td>\n",
       "      <td>16</td>\n",
       "    </tr>\n",
       "    <tr>\n",
       "      <th>3</th>\n",
       "      <td>Habasyi Oil 210 Kps</td>\n",
       "      <td>45000</td>\n",
       "      <td>90000</td>\n",
       "      <td>81</td>\n",
       "      <td>18</td>\n",
       "    </tr>\n",
       "    <tr>\n",
       "      <th>4</th>\n",
       "      <td>Kapsul Habbatus Sauda</td>\n",
       "      <td>10000</td>\n",
       "      <td>24000</td>\n",
       "      <td>81</td>\n",
       "      <td>30</td>\n",
       "    </tr>\n",
       "  </tbody>\n",
       "</table>\n",
       "</div>"
      ],
      "text/plain": [
       "                           Nama Produk  Harga Beli  Harga Jual  Jumlah Stok  \\\n",
       "0  Habbatussauda Extra Propolis Trigon       55000      120000          109   \n",
       "1         Habbatussauda Oil 200 Kapsul       45000      100000           99   \n",
       "2                  Habasyi Oil 100 Kps       24000       48000           85   \n",
       "3                  Habasyi Oil 210 Kps       45000       90000           81   \n",
       "4                Kapsul Habbatus Sauda       10000       24000           81   \n",
       "\n",
       "   Stok Keluar  \n",
       "0           41  \n",
       "1           16  \n",
       "2           16  \n",
       "3           18  \n",
       "4           30  "
      ]
     },
     "execution_count": 66,
     "metadata": {},
     "output_type": "execute_result"
    }
   ],
   "source": [
    "#importing daata set\n",
    "data= pd.read_csv('Data dummy.csv')\n",
    "print(data.shape)\n",
    "data.head()"
   ]
  },
  {
   "cell_type": "code",
   "execution_count": 67,
   "metadata": {},
   "outputs": [
    {
     "name": "stdout",
     "output_type": "stream",
     "text": [
      "[[ 55. 120. 109.  41.]\n",
      " [ 45. 100.  99.  16.]\n",
      " [ 24.  48.  85.  16.]\n",
      " [ 45.  90.  81.  18.]\n",
      " [ 10.  24.  81.  30.]\n",
      " [ 15.  35.  83.  49.]\n",
      " [ 20.  35. 113.  32.]\n",
      " [ 25.  50. 110.  20.]\n",
      " [ 30.  60. 106.  38.]\n",
      " [ 50. 110.  99.  42.]\n",
      " [ 20.  40.  89.  42.]\n",
      " [ 60. 125.  92.  50.]\n",
      " [ 50. 110.  89.  36.]\n",
      " [ 60. 125. 101.  37.]\n",
      " [ 45. 100. 102.  47.]\n",
      " [ 50. 100.  87.  22.]\n",
      " [ 45. 100.  83.  41.]\n",
      " [ 40.  90. 107.  43.]\n",
      " [ 14.  26.  87.  43.]\n",
      " [ 30.  65. 100.  18.]\n",
      " [ 40.  85.  92.  42.]\n",
      " [ 25.  48. 112.  49.]\n",
      " [ 48. 100. 117.  18.]]\n"
     ]
    }
   ],
   "source": [
    "f1= data['Harga Beli'].values/1000\n",
    "f2= data['Harga Jual'].values/1000\n",
    "f3= data['Jumlah Stok'].values\n",
    "f4= data['Stok Keluar'].values\n",
    "X = np.array(list(zip(f1,f2,f3,f4)))\n",
    "print(X)"
   ]
  },
  {
   "cell_type": "code",
   "execution_count": 68,
   "metadata": {},
   "outputs": [],
   "source": [
    "#Euclidean Distance\n",
    "def dist(a,b, ax=1):\n",
    "    return np.linalg.norm(a-b, axis=ax)"
   ]
  },
  {
   "cell_type": "code",
   "execution_count": 69,
   "metadata": {},
   "outputs": [
    {
     "data": {
      "text/plain": [
       "array([[ 31.,  24.,  13.,  69.],\n",
       "       [100.,   0.,  95.,  12.],\n",
       "       [ 30.,  65.,  19.,   0.]], dtype=float32)"
      ]
     },
     "execution_count": 69,
     "metadata": {},
     "output_type": "execute_result"
    }
   ],
   "source": [
    "k=3\n",
    "C_w = np.random.randint(0, np.max(X)-20, size=k)\n",
    "C_x = np.random.randint(0, np.max(X)-20, size=k)\n",
    "C_y = np.random.randint(0, np.max(X)-20, size=k)\n",
    "C_z = np.random.randint(0, np.max(X)-20, size=k)\n",
    "C= np.array(list(zip(C_w,C_x,C_y,C_z)), dtype=np.float32)\n",
    "C"
   ]
  },
  {
   "cell_type": "code",
   "execution_count": 72,
   "metadata": {
    "scrolled": true
   },
   "outputs": [
    {
     "name": "stdout",
     "output_type": "stream",
     "text": [
      "1\n",
      "2\n",
      "3\n",
      "4\n",
      "5\n",
      "6\n",
      "7\n",
      "8\n",
      "9\n",
      "10\n",
      "11\n",
      "12\n",
      "13\n",
      "14\n",
      "15\n",
      "16\n",
      "17\n",
      "18\n",
      "19\n",
      "20\n",
      "21\n",
      "22\n",
      "23\n",
      "24\n",
      "25\n",
      "26\n",
      "27\n",
      "28\n",
      "29\n",
      "30\n",
      "31\n",
      "32\n",
      "33\n",
      "34\n",
      "35\n",
      "36\n",
      "37\n",
      "38\n",
      "39\n",
      "40\n",
      "41\n",
      "42\n",
      "43\n",
      "44\n",
      "45\n",
      "46\n",
      "47\n",
      "48\n",
      "49\n",
      "50\n",
      "51\n",
      "52\n",
      "53\n",
      "54\n",
      "55\n",
      "56\n",
      "57\n",
      "58\n",
      "59\n",
      "60\n",
      "61\n",
      "62\n",
      "63\n",
      "64\n",
      "65\n",
      "66\n",
      "67\n",
      "68\n",
      "69\n",
      "70\n",
      "71\n",
      "72\n",
      "73\n",
      "74\n",
      "75\n",
      "76\n",
      "77\n",
      "78\n",
      "79\n",
      "80\n",
      "81\n",
      "82\n",
      "83\n",
      "84\n",
      "85\n",
      "86\n",
      "87\n",
      "88\n",
      "89\n",
      "90\n",
      "91\n",
      "92\n",
      "93\n",
      "94\n",
      "95\n",
      "96\n",
      "97\n",
      "98\n",
      "99\n"
     ]
    }
   ],
   "source": [
    "C_old=np.zeros((C.shape))\n",
    "#label\n",
    "clusters = np.zeros(len(X))\n",
    "error = dist(C,C_old, None)\n",
    "counter=1\n",
    "while counter <100:\n",
    "    print(counter)\n",
    "    for i in range(len(X)):\n",
    "        distance=dist(X[i],C)\n",
    "        cluster = np.argmin(distance)\n",
    "        clusters[i] = cluster\n",
    "    #storing old centroid\n",
    "    C_old=deepcopy(C)\n",
    "    #finding the new centroid\n",
    "    for i in range(k):\n",
    "        points = [X[j] for j in range(len(X)) if clusters[j]==i]\n",
    "        C[i]=np.mean(points,axis=0)\n",
    "    error = dist(C,C_old,None)\n",
    "    counter+=1"
   ]
  },
  {
   "cell_type": "code",
   "execution_count": 74,
   "metadata": {},
   "outputs": [
    {
     "name": "stdout",
     "output_type": "stream",
     "text": [
      "[2. 2. 0. 2. 0. 0. 1. 1. 1. 2. 0. 2. 2. 2. 2. 2. 2. 2. 0. 1. 2. 1. 2.]\n"
     ]
    },
    {
     "data": {
      "text/plain": [
       "0.0"
      ]
     },
     "execution_count": 74,
     "metadata": {},
     "output_type": "execute_result"
    }
   ],
   "source": [
    "print(clusters)\n",
    "C\n",
    "error"
   ]
  },
  {
   "cell_type": "code",
   "execution_count": 7,
   "metadata": {},
   "outputs": [
    {
     "data": {
      "text/plain": [
       "array([[0., 0., 0.],\n",
       "       [0., 0., 0.],\n",
       "       [0., 0., 0.]])"
      ]
     },
     "execution_count": 7,
     "metadata": {},
     "output_type": "execute_result"
    }
   ],
   "source": [
    "np.zeros((3,3))"
   ]
  },
  {
   "cell_type": "code",
   "execution_count": 42,
   "metadata": {},
   "outputs": [
    {
     "data": {
      "text/plain": [
       "array([55., 45., 24., 45., 10., 15., 20., 25., 30., 50., 20., 60., 50.,\n",
       "       60., 45., 50., 45., 40., 14., 30., 40., 25., 48.])"
      ]
     },
     "execution_count": 42,
     "metadata": {},
     "output_type": "execute_result"
    }
   ],
   "source": [
    "X[:,0]"
   ]
  },
  {
   "cell_type": "code",
   "execution_count": 83,
   "metadata": {},
   "outputs": [],
   "source": [
    "produk = data['Nama Produk']\n",
    "new_data= np.array(list(zip(produk,clusters)))"
   ]
  },
  {
   "cell_type": "code",
   "execution_count": 97,
   "metadata": {},
   "outputs": [
    {
     "data": {
      "text/plain": [
       "<mpl_toolkits.mplot3d.art3d.Path3DCollection at 0x7f2704354ef0>"
      ]
     },
     "execution_count": 97,
     "metadata": {},
     "output_type": "execute_result"
    },
    {
     "data": {
      "image/png": "[encoded data removed]",
      "text/plain": [
       "<Figure size 1152x648 with 1 Axes>"
      ]
     },
     "metadata": {},
     "output_type": "display_data"
    }
   ],
   "source": [
    "colors= ['r', 'g', 'b', 'y', 'c', 'm']\n",
    "fig = plt.figure()\n",
    "ax = fig.add_subplot(111, projection='3d')\n",
    "for i in range(k):\n",
    "        points = np.array([X[j] for j in range(len(X)) if clusters[j] == i])\n",
    "        ax.scatter(points[:, 0], points[:, 1],points[:, 2], s=7, c=colors[i])\n",
    "ax.scatter(C[:, 0], C[:, 1],C[:, 2], marker='*', s=200, c='#050505')"
   ]
  },
  {
   "cell_type": "code",
   "execution_count": null,
   "metadata": {},
   "outputs": [],
   "source": []
  },
  {
   "cell_type": "code",
   "execution_count": null,
   "metadata": {},
   "outputs": [],
   "source": []
  }
 ],
 "metadata": {
  "kernelspec": {
   "display_name": "Python 3",
   "language": "python",
   "name": "python3"
  },
  "language_info": {
   "codemirror_mode": {
    "name": "ipython",
    "version": 3
   },
   "file_extension": ".py",
   "mimetype": "text/x-python",
   "name": "python",
   "nbconvert_exporter": "python",
   "pygments_lexer": "ipython3",
   "version": "3.7.1"
  }
 },
 "nbformat": 4,
 "nbformat_minor": 2
}
